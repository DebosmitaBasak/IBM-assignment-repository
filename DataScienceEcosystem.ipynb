{
 "cells": [
  {
   "cell_type": "markdown",
   "id": "45dd69a5-3357-48bc-89f2-4ce8ec6571d7",
   "metadata": {},
   "source": [
    "# Data Science Tools and Ecosystem"
   ]
  },
  {
   "cell_type": "markdown",
   "id": "e903135b-0449-45d3-9aa1-68f7b7783dc5",
   "metadata": {},
   "source": [
    "#### In this notebook, Data Science Tools and Ecosystem are summarized."
   ]
  },
  {
   "cell_type": "markdown",
   "id": "f1c1c653-b49d-49f0-8c9c-46d3023ecc07",
   "metadata": {},
   "source": [
    "##### **Objectives**\n",
    "- Popular languages used in data science\n",
    "- Commonly used libraries in data science\n",
    "- Open-source data science tools\n",
    "- Arithmetic evaluations performed in python"
   ]
  },
  {
   "cell_type": "markdown",
   "id": "fd1b35f4-cedf-494d-ada3-932f2cb0583e",
   "metadata": {},
   "source": [
    "##### Some of the popular languages that Data Scientists use are:\n",
    "1. Python\n",
    "2. R\n",
    "3. SQL\n",
    "4. Java\n",
    "5. Scala\n",
    "6. Julia\n",
    "\n"
   ]
  },
  {
   "cell_type": "markdown",
   "id": "79bc41f7-fc4e-47b7-9bd0-0f412406563f",
   "metadata": {},
   "source": [
    "##### Some of the commonly used libraries used by Data Scientists include:\n",
    "1. Numpy\n",
    "2. Pandas\n",
    "3. Matplotlib\n",
    "4. Seaborn\n",
    "5. TensorFlow\n",
    "6. ggplot2"
   ]
  },
  {
   "cell_type": "markdown",
   "id": "de263984-0656-435c-9fdb-e9961aec5af7",
   "metadata": {},
   "source": [
    "| Data Science Tools |\n",
    "|-----|\n",
    "|Jupyter notebooks|\n",
    "|Github|\n",
    "|Kubernetes|"
   ]
  },
  {
   "cell_type": "markdown",
   "id": "cf1ecf21-220a-473a-887a-094dbc8d6f8b",
   "metadata": {},
   "source": [
    "### Below are a few examples of evaluating arithmetic expressions in Python."
   ]
  },
  {
   "cell_type": "code",
   "execution_count": 24,
   "id": "440f2054-330c-4d77-a8cb-307b633443f4",
   "metadata": {},
   "outputs": [
    {
     "data": {
      "text/plain": [
       "17"
      ]
     },
     "execution_count": 24,
     "metadata": {},
     "output_type": "execute_result"
    }
   ],
   "source": [
    "# This is a simple arithmetic expression to multiply and then add integers.\n",
    "(3*4)+5"
   ]
  },
  {
   "cell_type": "code",
   "execution_count": 30,
   "id": "a0a70e4e-cc32-4d1b-9583-0738a5e7a8cf",
   "metadata": {},
   "outputs": [
    {
     "name": "stdout",
     "output_type": "stream",
     "text": [
      "200 hours is equivalent to:3.3333333333333335 hours\n"
     ]
    }
   ],
   "source": [
    "# This will convert 200 minutes to hours by diving by 60.\n",
    "hours = 200/60\n",
    "print (f\"200 hours is equivalent to:{hours} hours\")"
   ]
  },
  {
   "cell_type": "markdown",
   "id": "7973a4cb-b547-4491-ac60-553d129e9aa7",
   "metadata": {},
   "source": [
    "## Author\n",
    "\n",
    "Debosmita Basak"
   ]
  }
 ],
 "metadata": {
  "kernelspec": {
   "display_name": "Python [conda env:base] *",
   "language": "python",
   "name": "conda-base-py"
  },
  "language_info": {
   "codemirror_mode": {
    "name": "ipython",
    "version": 3
   },
   "file_extension": ".py",
   "mimetype": "text/x-python",
   "name": "python",
   "nbconvert_exporter": "python",
   "pygments_lexer": "ipython3",
   "version": "3.12.7"
  }
 },
 "nbformat": 4,
 "nbformat_minor": 5
}
